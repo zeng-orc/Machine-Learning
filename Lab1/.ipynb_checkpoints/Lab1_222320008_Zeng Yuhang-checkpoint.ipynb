{
 "cells": [
  {
   "cell_type": "markdown",
   "id": "138158f2",
   "metadata": {},
   "source": [
    "# Lab1\n",
    "\n",
    "- Name: Yuhang Zeng\n",
    "- ID: 222320008"
   ]
  },
  {
   "cell_type": "markdown",
   "id": "99d79e7a",
   "metadata": {},
   "source": [
    "Get your DingTalk number (write it manually to notebook) and split into sequence of three-digit numbers. The tail with one two-digit number should be discarded."
   ]
  },
  {
   "cell_type": "code",
   "execution_count": 1,
   "id": "28202d3f",
   "metadata": {},
   "outputs": [
    {
     "data": {
      "text/plain": [
       "(['222', '320', '008'], list)"
      ]
     },
     "execution_count": 1,
     "metadata": {},
     "output_type": "execute_result"
    }
   ],
   "source": [
    "import numpy as np\n",
    "\n",
    "ID = '222320008'\n",
    "\n",
    "three_digit = [ID[3 * i:3 * (i + 1)] for i in range(0, int(len(ID) / 3))]\n",
    "three_digit, type(three_digit)"
   ]
  },
  {
   "cell_type": "markdown",
   "id": "5b9d65c7",
   "metadata": {},
   "source": [
    "Convert this sequence of numbers into 3x3 numpy matrix A where each element of previous array is a row and one digit of each number is a column."
   ]
  },
  {
   "cell_type": "code",
   "execution_count": 2,
   "id": "a00505e8",
   "metadata": {},
   "outputs": [
    {
     "data": {
      "text/plain": [
       "(matrix([[2, 2, 2],\n",
       "         [3, 2, 0],\n",
       "         [0, 0, 8]]),\n",
       " numpy.matrix)"
      ]
     },
     "execution_count": 2,
     "metadata": {},
     "output_type": "execute_result"
    }
   ],
   "source": [
    "A = np.matrix([[int(i) for i in str(j)] for j in three_digit])\n",
    "A, type(A)"
   ]
  },
  {
   "cell_type": "markdown",
   "id": "229bd7ad",
   "metadata": {},
   "source": [
    "Read the NumPy documentation and compute the reversed matrix A (if you can reverse it), transposed matrix A, multiplication of matrix A and matrix A^(-1) or matrix A and transposed A, create a submatrix consists of the first and third rows of matrix A"
   ]
  },
  {
   "cell_type": "code",
   "execution_count": 3,
   "id": "b56de210",
   "metadata": {},
   "outputs": [
    {
     "data": {
      "text/plain": [
       "(matrix([[-1.   ,  1.   ,  0.25 ],\n",
       "         [ 1.5  , -1.   , -0.375],\n",
       "         [ 0.   ,  0.   ,  0.125]]),\n",
       " matrix([[2, 3, 0],\n",
       "         [2, 2, 0],\n",
       "         [2, 0, 8]]),\n",
       " matrix([[1.00000000e+00, 2.22044605e-16, 5.55111512e-17],\n",
       "         [0.00000000e+00, 1.00000000e+00, 0.00000000e+00],\n",
       "         [0.00000000e+00, 0.00000000e+00, 1.00000000e+00]]),\n",
       " matrix([[12, 10, 16],\n",
       "         [10, 13,  0],\n",
       "         [16,  0, 64]]),\n",
       " matrix([[2, 2, 2],\n",
       "         [0, 0, 8]]))"
      ]
     },
     "execution_count": 3,
     "metadata": {},
     "output_type": "execute_result"
    }
   ],
   "source": [
    "reversed_A = A.I if np.linalg.det(A) != 0 else 'can not reversed.'\n",
    "transposed_A = A.T\n",
    "multiplication_A_AI = A.dot(reversed_A)\n",
    "multiplication_A_AT = A.dot(transposed_A)\n",
    "submatrix_A = A[(0,2),:]\n",
    "reversed_A, transposed_A, multiplication_A_AI, multiplication_A_AT, submatrix_A"
   ]
  },
  {
   "cell_type": "code",
   "execution_count": null,
   "id": "3f8f377a",
   "metadata": {},
   "outputs": [],
   "source": []
  }
 ],
 "metadata": {
  "kernelspec": {
   "display_name": "Python 3 (ipykernel)",
   "language": "python",
   "name": "python3"
  },
  "language_info": {
   "codemirror_mode": {
    "name": "ipython",
    "version": 3
   },
   "file_extension": ".py",
   "mimetype": "text/x-python",
   "name": "python",
   "nbconvert_exporter": "python",
   "pygments_lexer": "ipython3",
   "version": "3.9.12"
  }
 },
 "nbformat": 4,
 "nbformat_minor": 5
}
